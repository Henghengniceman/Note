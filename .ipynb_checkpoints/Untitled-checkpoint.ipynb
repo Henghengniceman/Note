{
 "cells": [
  {
   "cell_type": "code",
   "execution_count": 1,
   "id": "2deb257c",
   "metadata": {},
   "outputs": [],
   "source": [
    "from utils_gfat import lidar,lidarQA\n",
    "import numpy as np\n",
    "import xarray as xr\n",
    "import matplotlib.pyplot as plt"
   ]
  }
 ],
 "metadata": {
  "kernelspec": {
   "display_name": "Python 3 (ipykernel)",
   "language": "python",
   "name": "python3"
  },
  "language_info": {
   "codemirror_mode": {
    "name": "ipython",
    "version": 3
   },
   "file_extension": ".py",
   "mimetype": "text/x-python",
   "name": "python",
   "nbconvert_exporter": "python",
   "pygments_lexer": "ipython3",
   "version": "3.9.7"
  }
 },
 "nbformat": 4,
 "nbformat_minor": 5
}
